{
 "cells": [
  {
   "cell_type": "markdown",
   "metadata": {},
   "source": [
    "# INFO 2950 Homework 3"
   ]
  },
  {
   "cell_type": "markdown",
   "metadata": {
    "narrative": true
   },
   "source": [
    "So far, we've been looking within one variable at a time: population, avocado price, etc. In this homework, we're going to start looking at ways of quantifying the relationship *between* two variables.\n",
    "\n",
    "**No problem in this homework will involve `for` loops. Use only methods that operate on pandas DataFrames or Series.** (Series are one-dimensional arrays and often how DataFrame columns are represented when extracted.) These custom methods are written to operate efficiently on pandas objects, and are generally more computationally efficient than `for` loops."
   ]
  },
  {
   "cell_type": "markdown",
   "metadata": {
    "narrative": true
   },
   "source": [
    "## Part 1: Discussion exercises\n",
    "\n",
    "### Python Functions\n",
    "\n",
    "A Python function is a set of pre-defined code which is programmed for a certain purpose. To decrease code repetition (especially copy and pasting which can introduce unwanted bugs), we write functions to perform repeated tasks. You can input data and other arguments (usually called \"parameters\") into a function. A function will perform its internal code and can (optionally) output objects using a `return` statement. A function will only execute when it's explicitly called. Indents in the function definiton are essential.\n",
    "\n",
    "Here is an example of a simple function that prints the variable passed in the first (and only) parameter (called `print_content` locally, within the function definition."
   ]
  },
  {
   "cell_type": "code",
   "execution_count": null,
   "metadata": {
    "narrative": true
   },
   "outputs": [],
   "source": [
    "def print_sth(print_content):\n",
    "    '''\n",
    "    param print_content: a string parameter. This is what you want to print\n",
    "    '''\n",
    "    print(print_content)\n",
    "    \n",
    "print_sth(\"Homework 3\")    "
   ]
  },
  {
   "cell_type": "markdown",
   "metadata": {},
   "source": [
    "While this function prints a statement, it doesn't actually return anything:"
   ]
  },
  {
   "cell_type": "code",
   "execution_count": null,
   "metadata": {},
   "outputs": [],
   "source": [
    "print(\"type returned: \" + str(type(print_sth(\"test\"))))"
   ]
  },
  {
   "cell_type": "markdown",
   "metadata": {},
   "source": [
    "The comment (between the `'''` symbols) in the function defintion tells the user what the parameter `print_content` should be. This syntax can automatically generate documentation for your own functions. It is very important to document any code you bother spending time to convert to a function, because you may want to use it again or share your code with others. It's helpful to write notes about how the function can be used and what it does.\n",
    "\n",
    "Here is another function: this one takes *two* arguments and actually returns an object, all of which is documented in the comment at the top of the function definition. "
   ]
  },
  {
   "cell_type": "code",
   "execution_count": null,
   "metadata": {},
   "outputs": [],
   "source": [
    "def course(dept,classcode):\n",
    "    '''\n",
    "    param dept: a string. It's the department code. \n",
    "    param classcode: an integer. It's the course number\n",
    "    return: a string value which combines both department code and course number\n",
    "    '''\n",
    "    return dept+str(classcode)\n",
    "\n",
    "output = course(\"INFO\",2950)\n",
    "print(output)\n",
    "print(\"type returned: \" + str(type(output)))"
   ]
  },
  {
   "cell_type": "markdown",
   "metadata": {},
   "source": [
    "### String formatting\n",
    "\n",
    "We often want to construct and print strings that include the values of calculated variables; it's good practice to add context to any values you print in your notebooks, so others reading them know what the number you're printing is. For instance, it's clearer to print `mean price: $27.80` instead of just `27.8`.\n",
    "    \n",
    "You can concatenate strings with the `+` operator, but you can't merge a string and a number without doing some type conversion (like we did above with `str(type(output))`). Sometimes there are multiple ways to display a variable, such as a float with either 2 or 3 decimal places. All strings have a function `.format()` that allows you to construct strings with placeholders where variables get inserted and to specify how the variables should appear.\n",
    "\n",
    "We start by creating a string *template* (as a string). We insert placeholders `{}` into the string template where we want variable values to appear. Then for each of these placeholds, we include corresponding variable as an argument to `.format()` (in the desired order of appearance in the string template). For each of these values, Python will convert the value to a string and insert it in the corresponding placeholder. You can also specify how you want a value to appear. To format a value as a 4-digit decimal integer with leading zeros, use `{:04d}`. To round a float to two decimal places, use `{:.2f}`. See [the documentation](https://docs.python.org/3.8/library/string.html#formatspec) for other options.\n",
    "\n",
    "Python also supports an older string format style using the `%` operator, which we prefer you do *not* use. There is also a newer method called f-strings that you may use. You may be familiar with `.format()` in the context of `print()` statements, but it's really a function of strings, not printing strings."
   ]
  },
  {
   "cell_type": "code",
   "execution_count": null,
   "metadata": {},
   "outputs": [],
   "source": [
    "\"this is my {} string\".format(\"favorite\")"
   ]
  },
  {
   "cell_type": "code",
   "execution_count": null,
   "metadata": {},
   "outputs": [],
   "source": [
    "\"The letter {} has Unicode codepoint {:d} (as an integer), which is {:x} in hexadecimal and {:08b} in binary\".format(\"M\", ord(\"M\"), ord(\"M\"), ord(\"M\"))"
   ]
  },
  {
   "cell_type": "markdown",
   "metadata": {
    "narrative": true
   },
   "source": [
    "### Correlation and Causation\n",
    "\n",
    "We often want to measure the relationship between two variables because we want to know whether the value of one factor *causes* another factor to have a certain value. Usually this is interesting because there may be one factor we care about but cannot directly control, and another factor that we can control, but we don't necessarily care about in and of itself. For example, I don't care about the number on my thermostat for itself, I care about it because it has a causal effect on the temperature in the house.\n",
    "\n",
    "**1. Describe a situation where one factor, which we can observe and control, influences the value of another factor. Without using specific quantitative measurements, describe how strong you consider this relationship to be.**\n",
    "\n",
    "**2. Describe a situation where one factor does not *influence* another factor, but nevertheless allows you to *predict* the value of that second factor. What would you need to do to distinguish between this situation and the previous situation?**\n",
    "\n",
    "Correlation does not necessarily imply causation. Most of the statistical methods we will study can only show correlation, though there exist careful experimental designs that can enable [causal inference](https://en.wikipedia.org/wiki/Causal_inference). \n",
    "\n",
    "### Beyond Correlation/Causation\n",
    "\n",
    "You may be familiar with the previous discussion. In fact, mean, variance, and \"correlation is not causation\" is about the only thing that we can reliably assume that everyone learns in a statistics class. But there's another problem that we face, which can be subtler and more dangerous.\n",
    "\n",
    "Consider a system that predicts creditworthiness. The rows in the data table will correspond to people, and it is extremely easy to think of what you are doing as classifying *people* as creditworthy or not. But, as Princeton sociologist Ruha Benjamin [has pointed out](https://www.goodreads.com/en/book/show/42527493-race-after-technology), almost all of the actual variables are describing a person's *situation*. Sometimes situations can change quickly, as we all saw this year, and sometimes they can be nearly impossible to escape. \n",
    "\n",
    "**3. The dataset we will look at in this homework is about the educational achievements of kindergarterners. It includes demographic information, as you can see from the data description file (**`Data description ECLS_R7.pdf`**). What do you think that you should be able to say about these children based on these measurements, and what can you not say?**\n"
   ]
  },
  {
   "cell_type": "markdown",
   "metadata": {
    "problem": 1
   },
   "source": [
    "---\n",
    "\n",
    "## Problem 1 (9 pts)\n",
    "\n",
    "Write down your thoughts about the three discussion questions. Ensure your answer is moderately detailed to get full marks.\n",
    "\n",
    "---"
   ]
  },
  {
   "cell_type": "markdown",
   "metadata": {},
   "source": [
    "(insert your answer for the first question here)"
   ]
  },
  {
   "cell_type": "markdown",
   "metadata": {},
   "source": [
    "(insert your answer for the second question here)"
   ]
  },
  {
   "cell_type": "markdown",
   "metadata": {},
   "source": [
    "(insert your answer for the third question here)"
   ]
  },
  {
   "cell_type": "markdown",
   "metadata": {
    "narrative": true
   },
   "source": [
    "## Part 2: Correlation and Covariance\n",
    "We will investigate data collected as part of the Early Childhood Longitudinal Studies program, which seeks to understand childhood development from birth through elementary school in the United States. The main dataset we will work with quantifies [the development of kindergarteners in 2010-2011](https://nces.ed.gov/ecls/kindergarten2011.asp) and is provided as `ECLS_R7.csv`. You may find it helpful to refer to the data description file (also sometimes referred to as a \"codebook\"), `Data description ECLS_R7.pdf`, which defines the variables in the data. While there is a lot of of information in this file, we will only explore a few variables in this homework."
   ]
  },
  {
   "cell_type": "code",
   "execution_count": null,
   "metadata": {
    "narrative": true
   },
   "outputs": [],
   "source": [
    "## load libraries\n",
    "import pandas as pd\n",
    "import numpy as np\n",
    "import matplotlib.pyplot as plt\n",
    "\n",
    "## load data\n",
    "education_data = pd.read_csv(\"ECLS_R7.csv\")"
   ]
  },
  {
   "cell_type": "markdown",
   "metadata": {
    "problem": 2
   },
   "source": [
    "---\n",
    "\n",
    "## Problem 2 (4 pts)\n",
    "What does the variable `X7MTHETK4` measure? Calculate and print the mean and median of this variable. (make sure to use .format() to round all printed floats to two decimal places)\n",
    "\n",
    "**Hint:** We will use the columns `X7MTHETK4`, `X7STHETK4`, and `X7RTHETK4` throughout this homework. You may find it helpful to rename these columns now (e.g. using the [`.rename()`](https://pandas.pydata.org/pandas-docs/stable/reference/api/pandas.DataFrame.rename.html) dataframe method).\n",
    "\n",
    "---"
   ]
  },
  {
   "cell_type": "markdown",
   "metadata": {},
   "source": [
    "Your answer: "
   ]
  },
  {
   "cell_type": "code",
   "execution_count": null,
   "metadata": {},
   "outputs": [],
   "source": [
    "#Your code:"
   ]
  },
  {
   "cell_type": "markdown",
   "metadata": {
    "problem": 3
   },
   "source": [
    "---\n",
    "\n",
    "## Problem 3 (4 pts)\n",
    "\n",
    "Calculate and print the 1st quartile and the 95th precentile of the science score (original column name: `X7STHETK4`) using the [.quantile()](https://pandas.pydata.org/pandas-docs/stable/reference/api/pandas.Series.quantile.html) Series method. How are quartiles and percentiles related?\n",
    "\n",
    "\n",
    "**Hint:** What are [\"quantiles\", \"quartiles\", and \"percentiles\"](https://www.statsdirect.com/help/nonparametric_methods/quantiles.htm#:~:text=Quantiles%20are%20points%20in%20a,of%20values%20in%20that%20distribution.&text=Centiles%2Fpercentiles%20are%20descriptions%20of,sorted%20values%20of%20a%20sample)?\n",
    "\n",
    "---"
   ]
  },
  {
   "cell_type": "code",
   "execution_count": null,
   "metadata": {},
   "outputs": [],
   "source": [
    "# Your code:"
   ]
  },
  {
   "cell_type": "markdown",
   "metadata": {},
   "source": [
    "Your answer: "
   ]
  },
  {
   "cell_type": "markdown",
   "metadata": {
    "problem": 4
   },
   "source": [
    "---\n",
    "## Problem 4 (2 pts)\n",
    "\n",
    "Calculate and print the mean and standard deviation of the students' reading scores (original column name: `X7RTHETK4`)---it's actually \"reading\", not \"reaching\" as in the data description file. Save these two values to Python variables (you will find these variables useful in the next problem)."
   ]
  },
  {
   "cell_type": "code",
   "execution_count": null,
   "metadata": {},
   "outputs": [],
   "source": [
    "#Your code:"
   ]
  },
  {
   "cell_type": "markdown",
   "metadata": {
    "problem": 5
   },
   "source": [
    "---\n",
    "\n",
    "## Problem 5 (10 pts)\n",
    "\n",
    "Suppose we want to count the number of observations when a variable is in a given range. Write a [Python function](https://www.w3schools.com/python/python_functions.asp) `count_within_range(sub_data, lower, upper)` that takes three arguments, the subset data for calculation (as a Pandas Series), and the lower and upper bounds (as numbers).\n",
    "\n",
    "In the body of your function:\n",
    "1. use the [`.between()`](https://pandas.pydata.org/pandas-docs/stable/reference/api/pandas.Series.between.html) subsetting method to select the observations in the given range\n",
    "2. calculate and print the **minimum** and **maximum** values of the range, **the count of observations** within the range, and **the percentage (%) of all observations** that are found in the range.\n",
    "\n",
    "The function should not return anything. And be sure to label each printed number and use [`.format()`](https://mkaz.blog/code/python-string-format-cookbook/) to round all printed floats to two decimal places (integers should have zero decimal places). \n",
    "\n",
    "Call this function for the reading score values with the following ranges:\n",
    "\n",
    "* *one standard deviation below the mean* to *the mean*\n",
    "* *the mean* to *one standard deviation above the mean*\n",
    "\n",
    "Based on these results, do you think the distribution of this variable is *symmetric*? Explain.\n",
    "\n",
    "---"
   ]
  },
  {
   "cell_type": "code",
   "execution_count": null,
   "metadata": {},
   "outputs": [],
   "source": [
    "#define your function\n"
   ]
  },
  {
   "cell_type": "code",
   "execution_count": null,
   "metadata": {
    "scrolled": true
   },
   "outputs": [],
   "source": [
    "#call your function\n"
   ]
  },
  {
   "cell_type": "markdown",
   "metadata": {},
   "source": [
    "Your answer:"
   ]
  },
  {
   "cell_type": "markdown",
   "metadata": {
    "problem": 6
   },
   "source": [
    "---\n",
    "\n",
    "## Problem 6 (4 pts)\n",
    "\n",
    "Make a scatter plot [with matplotlib](https://matplotlib.org/3.3.1/api/_as_gen/matplotlib.pyplot.scatter.html) to show the distribution of data points in two dimensions (variables): math score on the x-axis and and science score on the y-axis. Make sure to set the parameter `alpha` as 0.3 in `.scatter()` to control the dot opacity, and set the axis labels as *Math Score* and *Science Score*.\n",
    "\n",
    "Describe the trend in the relationship between these two variables, as revealed by the scatterplot.\n",
    "\n",
    "---"
   ]
  },
  {
   "cell_type": "code",
   "execution_count": null,
   "metadata": {},
   "outputs": [],
   "source": [
    "#Your code"
   ]
  },
  {
   "cell_type": "markdown",
   "metadata": {},
   "source": [
    "Your answer:"
   ]
  },
  {
   "cell_type": "markdown",
   "metadata": {
    "problem": 7
   },
   "source": [
    "---\n",
    "\n",
    "## Problem 7 (6 pts)\n",
    "\n",
    "Measure the strength of the association observed in the scatterplot from the previous problem by calculating and printing the **covariance** and (Pearson) **correlation** between the math and science scores. Use the [`.cov()`](https://pandas.pydata.org/pandas-docs/stable/reference/api/pandas.Series.cov.html) and [`.corr()`](https://pandas.pydata.org/pandas-docs/stable/reference/api/pandas.Series.corr.html) pandas Series methods.\n",
    "\n",
    "Create two new Series:\n",
    "* `math_times_ten` = the math score column times 10,\n",
    "* `science_times_ten` = the science score column times 10.\n",
    "\n",
    "Calculate and print the covariance and correlation between these two new series and describe the effect of scaling the original data by 10 on the covariance and correlation.\n",
    "\n",
    "---"
   ]
  },
  {
   "cell_type": "code",
   "execution_count": null,
   "metadata": {},
   "outputs": [],
   "source": [
    "#Your code:"
   ]
  },
  {
   "cell_type": "markdown",
   "metadata": {},
   "source": [
    "Your answer:"
   ]
  },
  {
   "cell_type": "markdown",
   "metadata": {
    "problem": 8
   },
   "source": [
    "---\n",
    "\n",
    "## Problem 8 (6 pts)\n",
    "\n",
    "Calculate and print the mean and standard deviation of the math and science scores. Save these values to Python variables.\n",
    "\n",
    "Select the students whose **science score** is between its mean and one standard deviation above the mean. Calculate and print the mean and the standard deviation of the **math scores** for this subset of students.\n",
    "\n",
    "For the math scores, how do the mean and standard deviation change when we go from looking at all students in the dataset to just those with a science score within one standard deviation above its mean? How does your observation relate to the correlation score between these two variables?\n",
    "\n",
    "---"
   ]
  },
  {
   "cell_type": "code",
   "execution_count": null,
   "metadata": {},
   "outputs": [],
   "source": [
    "#Your code:"
   ]
  },
  {
   "cell_type": "markdown",
   "metadata": {},
   "source": [
    "Your answer:"
   ]
  },
  {
   "cell_type": "markdown",
   "metadata": {
    "problem": 9
   },
   "source": [
    "---\n",
    "\n",
    "## Problem 9 (9 pts)\n",
    "\n",
    "Group the data by school (indicated in the ID column `'S7_ID'`) and calculate the mean math and science scores for each school. Subset the data, keeping only school whose average math *and* science scores are both strictly greater than 3. Save this dataframe as a variable called `school_mean_subset`. Print the number of rows in `school_mean_subset`.\n",
    "\n",
    "**Hint:** When subsetting the mean math and science scores by school to satisfy two  conditions, there are [several ways to accomplish this task](https://kanoki.org/2020/01/21/pandas-dataframe-filter-with-multiple-conditions/). Pick your favorite. And [`.reset_index()`](https://pandas.pydata.org/pandas-docs/stable/reference/api/pandas.DataFrame.reset_index.html) is a method you may need if you want to reset the index column of a groupby result.\n",
    "\n",
    "**Confidence check:** You should have 55 schools whose math and science scores are both  strictly greater than 3.\n",
    "\n",
    "Calculate and print the standard (Pearson) correlation and the rank (Spearman) correlation between the math and science scores in the subset data. The [`.corr()`](https://pandas.pydata.org/pandas-docs/stable/reference/api/pandas.Series.corr.html) computes the Pearson correlation by default, but you can get the Sperman correlation by explicitly specifying the `method` parameter (check the docs).\n",
    "\n",
    "Make a scatterplot with the average math scores on the x-axis, and the average science scores on the y-axis. Discuss any patterns you see in the scatterplot, and connect your observations to the two correlation scores.\n",
    "\n",
    "---"
   ]
  },
  {
   "cell_type": "code",
   "execution_count": null,
   "metadata": {},
   "outputs": [],
   "source": [
    "#Your code:"
   ]
  },
  {
   "cell_type": "markdown",
   "metadata": {},
   "source": [
    "Your answer:"
   ]
  },
  {
   "cell_type": "markdown",
   "metadata": {
    "problem": 10
   },
   "source": [
    "---\n",
    "\n",
    "## Problem 10 (8 pts)\n",
    "\n",
    "Use the [`.rank()`](https://pandas.pydata.org/pandas-docs/stable/reference/api/pandas.Series.rank.html) Series method to add columns called `'math_rank'` and `'sci_rank'` to `school_mean_subset`; these columns should contain the rank of the average math and science scores (by school), respectively. Print the first few rows of these new columns.\n",
    "\n",
    "**Confidence check:** For the school with `S7_ID==1022`, the mean math score rank is 28 and the mean science score rank is 15.\n",
    "\n",
    "Calculate the Pearson and Spearman correlation between the two rank variables and make a scatterplot with `math_rank` on the x-axis and `sci_rank` on the y-axis.\n",
    "\n",
    "Compare the correlations computed in this problem with those computed in the previous problem.\n",
    "\n",
    "---"
   ]
  },
  {
   "cell_type": "code",
   "execution_count": null,
   "metadata": {},
   "outputs": [],
   "source": [
    "#Your code:"
   ]
  },
  {
   "cell_type": "markdown",
   "metadata": {},
   "source": [
    "Your answer:"
   ]
  },
  {
   "cell_type": "code",
   "execution_count": null,
   "metadata": {},
   "outputs": [],
   "source": []
  },
  {
   "cell_type": "code",
   "execution_count": null,
   "metadata": {},
   "outputs": [],
   "source": []
  }
 ],
 "metadata": {
  "kernelspec": {
   "display_name": "Python 3",
   "language": "python",
   "name": "python3"
  },
  "language_info": {
   "codemirror_mode": {
    "name": "ipython",
    "version": 3
   },
   "file_extension": ".py",
   "mimetype": "text/x-python",
   "name": "python",
   "nbconvert_exporter": "python",
   "pygments_lexer": "ipython3",
   "version": "3.8.5"
  }
 },
 "nbformat": 4,
 "nbformat_minor": 4
}
