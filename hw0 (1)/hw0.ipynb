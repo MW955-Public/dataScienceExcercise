{
 "cells": [
  {
   "cell_type": "markdown",
   "metadata": {},
   "source": [
    "# INFO 2950 - Homework 0\n",
    "\n",
    "---"
   ]
  },
  {
   "cell_type": "markdown",
   "metadata": {},
   "source": [
    "# Part 0: Introduction\n",
    "\n",
    "Each homework will be released as a Jupyter Notebook, like this one!\n",
    "\n",
    "There will be problems clearly marked by **problem heading cells**. We are using some code to help facilitate grading logistics, so it is important that you **do not alter the problem header cells in hw notebooks**. You may add cells between problem headers and those will all be seen during grading, but anything written in problem header cells will **not** be seen.\n",
    "\n",
    "Removing the header cells will also break the grading code. If you accidentally delete any problem headers, please re-download a fresh blank copy of the hw and paste your answers there (you can copy + paste entire cells between Jupyter notebooks).\n",
    "\n",
    "Make sure to save your notebook with the code executed before submitting. **The TAs will not execute your notebook**, so it is important that all output is visible when you save it.\n",
    "\n",
    "Let me say this one more time for the people in the back...\n",
    "\n",
    "### *Do not move or modify any problem header cells.*\n",
    "\n",
    "---"
   ]
  },
  {
   "cell_type": "markdown",
   "metadata": {
    "problem": 1
   },
   "source": [
    "## Problem 1 (0 pts)\n",
    "(This is a problem header cell. **DO NOT EDIT OR MODIFY.** Anything written here will **not** appear in your hw submission when it is being graded.)\n",
    "\n",
    "Instructions for problem 1 will appear here. Read all instructions carefully to make sure you've done every part of the question! As you can see, the number of points each problem is worth will be given next to the problem number above.\n",
    "\n",
    "---"
   ]
  },
  {
   "cell_type": "markdown",
   "metadata": {},
   "source": [
    "Here is a sample answer to problem 1. This cell will appear as part of your homework submission for problem 1."
   ]
  },
  {
   "cell_type": "code",
   "execution_count": 5,
   "metadata": {},
   "outputs": [
    {
     "name": "stdout",
     "output_type": "stream",
     "text": [
      "This will show up in your hw submission for problem 1.\n"
     ]
    }
   ],
   "source": [
    "## This cell will also appear for problem 1, as will its output when executed\n",
    "a_message = \"This will show up in your hw submission for problem 1.\"\n",
    "print(a_message)"
   ]
  },
  {
   "cell_type": "code",
   "execution_count": null,
   "metadata": {},
   "outputs": [],
   "source": [
    "## This cell will appear, but since it wasn't executed, its output will NOT show up in the hw solutions.\n",
    "y = 7\n",
    "print(y)\n",
    "\n",
    "## The value of y hasn't actually been printed!!"
   ]
  },
  {
   "cell_type": "markdown",
   "metadata": {
    "problem": 2
   },
   "source": [
    "---\n",
    "\n",
    "## Problem 2 (0 pts)\n",
    "\n",
    "This is where problem 2 would be described.\n",
    "\n",
    "---"
   ]
  },
  {
   "cell_type": "markdown",
   "metadata": {},
   "source": [
    "This cell would appear in your submission for problem **2** not 1, since it is after the \"Problem 2\" header, and before the \"Problem 3\" header."
   ]
  },
  {
   "cell_type": "markdown",
   "metadata": {
    "colab_type": "text",
    "id": "hDnL-y1NjGLL"
   },
   "source": [
    "---\n",
    "\n",
    "# Part 1: Working in Jupyter Notebooks\n",
    "\n",
    "Jupyter Notebooks have a few features to help you easily write intelligible documents, either to share with others or just to keep yourself organized in your own work.\n",
    "\n",
    "You can add content to a Jupyter Notebook in **cells**, of which there are two types: **text** cells and **code** cells. You can add a new cell directly below the currently active one by clicking the **+** icon in the menu bar above. By default, Jupyter will insert a code cell. You can convert it to a text cell by pressing the `m` key on your keyboard while the cell is selected, or by going to the dropdown list in the menu bar that says \"Code\" and instead selecting \"Markdown\".\n",
    "\n",
    "### Text cells\n",
    "\n",
    "Text cells support **Markdown** and **$\\LaTeX$** formatting.\n",
    "\n",
    "Markdown is a lightweight markup language, which allows you to \"mark up\" plain text by adding simple formatting (like *italics* or **bold**) using a combination of special symbols, like asterisks and hashtags. An overview of the Markdown formatting supported by Jupyter can be found [here](https://dataplatform.cloud.ibm.com/docs/content/wsj/analyze-data/markd-jupyter.html)."
   ]
  },
  {
   "cell_type": "markdown",
   "metadata": {
    "problem": 3
   },
   "source": [
    "---\n",
    "\n",
    "## Problem 3 (6 pts)\n",
    "\n",
    "Insert a new text cell directly below this one. Create a level 4 heading (four hashtags) with the text \"My discussion question points\". Create a bulleted (non-numbered) list with three different points in response to this week's discussion question. Mark what you think is the most important point by bolding it, and the least important point by italicising it.\n",
    "\n",
    "When you're done typing in a text cell, you can execute it (so it displays nicely) by hitting the \"Run\" button in the above toolbar, or by using the keyboard shortcut `shift + enter`. This also works for code cells, except it will actually run the code in the cell.\n",
    "\n",
    "---"
   ]
  },
  {
   "cell_type": "markdown",
   "metadata": {
    "colab_type": "text",
    "id": "uC8YsCyYXDDu"
   },
   "source": [
    "---\n",
    "\n",
    "$\\LaTeX^{(1)}$ is a markup language often used to typeset mathematics$^{(2)}$. Jupyter allows you to insert math symbols and equations using $\\LaTeX$ syntax, which must be wrapped by `$` symbols. For instance, the syntax `$y = mx + b$` nicely displays the equation of a line: $y = mx + b$. If you wish to display an equation on a separate line, wrap your LaTeX syntax with `$$`, i.e. `$$y = mx + b$$`, which results in $$y = mx + b.$$\n",
    "\n",
    "Since $\\LaTeX$ uses \\\\$ as a special character to start and end a math environment, if you wish to use a \\\\$ symbol just as a dollar sign when writing text, you need to \"escape\" it with a backslash, like this: `\\$`. Sometimes you need two backslashes ¯\\\\\\_(ツ)\\_/¯. (Escaping dollar signs may come in handy with the data we'll analyze below!)\n",
    "\n",
    "A short list of the $\\LaTeX$ formatting available in Jupyter notebooks can be found [here](https://math.meta.stackexchange.com/questions/5020/mathjax-basic-tutorial-and-quick-reference). \n",
    "\n",
    "--\n",
    "\n",
    "<small>$^{(1)}$ It's pronounced *lah-tek* or *lay-tek*; the \"X\" is actually the Greek letter [chi](https://en.wikipedia.org/wiki/Chi_(letter)).\n",
    "\n",
    "$^{(2)}$ It's actually [much more than that](https://en.wikipedia.org/wiki/LaTeX), but for our purposes you can think of it as a math markup language.</small>"
   ]
  },
  {
   "cell_type": "markdown",
   "metadata": {
    "problem": 4
   },
   "source": [
    "## Problem 4 (2 pts)\n",
    "\n",
    "In the empty text cell directly below, replicate this equation:\n",
    "\n",
    "<img src=\"eqn1.png\" width=\"150\">\n",
    "\n",
    "(If you don't see an image, check the hw0 folder of materials downloaded from CMS for `eqn1.png`)\n",
    "\n",
    "To actually display the math properly, don't forget to run the cell once you've typed the formatting, either by clicking the Run button in the menu bar above, or by using the keyboard shortcut `shift + enter` after you're done typing.\n",
    "*(Hint: the little \"e\" at the end of the equation is the symbol epsilon and can be rendered with the $\\LaTeX$ command `\\varepsilon`)*\n",
    "\n",
    "---"
   ]
  },
  {
   "cell_type": "markdown",
   "metadata": {},
   "source": []
  },
  {
   "cell_type": "markdown",
   "metadata": {
    "colab_type": "text",
    "id": "C5-ZgtBIZbnl"
   },
   "source": [
    "---\n",
    "\n",
    "### Code cells\n",
    "\n",
    "In this class, we only use Python 3, and we refer to it simply as \"Python\"."
   ]
  },
  {
   "cell_type": "markdown",
   "metadata": {
    "problem": 5
   },
   "source": [
    "## Problem 5 (1 pt)\n",
    "\n",
    "Execute the following code cell to check that you are actually running Python 3 in this notebook.\n",
    "\n",
    "---"
   ]
  },
  {
   "cell_type": "code",
   "execution_count": null,
   "metadata": {
    "scrolled": false
   },
   "outputs": [],
   "source": [
    "import platform\n",
    "print(platform.python_version())"
   ]
  },
  {
   "cell_type": "markdown",
   "metadata": {},
   "source": [
    "---\n",
    "\n",
    "It is *totally normal* to get stuck while coding or to run into errors. When you do run into issues, there are a few things you can do:\n",
    "\n",
    "1. **Read the documentation!** This should be your first line of defense. Find the function that's giving you trouble and look at its input arguments, their types, and what it returns. (Type errors are some of the most common!) In this class, we will often use the packages [matplotlib](https://matplotlib.org/3.1.1/contents.html), [pandas](https://pandas.pydata.org/pandas-docs/stable/), [numpy](https://docs.scipy.org/doc/numpy/), so I've linked their documentation here for quick reference.\n",
    "2. **Google the error message + \"python\" (having removed specifics like your  variable names)**. This might give you a better idea of what went wrong. Interpreting error messages takes experience, so don't get frustrated if it's not immediately clear to you what's wrong. You'll learn!"
   ]
  },
  {
   "cell_type": "markdown",
   "metadata": {
    "problem": 6
   },
   "source": [
    "---\n",
    "\n",
    "## Problem 6 (2 pts)\n",
    "\n",
    "Use the search function on the `pandas` documentation page linked above to look for the function `pandas.read_csv()`. What output type does this function return?\n",
    "\n",
    "---"
   ]
  },
  {
   "cell_type": "markdown",
   "metadata": {},
   "source": []
  },
  {
   "cell_type": "markdown",
   "metadata": {
    "problem": 7
   },
   "source": [
    "---\n",
    "\n",
    "## Problem 7 (2 pts)\n",
    "\n",
    "I wrote the following code and got an error when I executed it! Explain what the error message means in your own words.\n",
    "\n",
    "---"
   ]
  },
  {
   "cell_type": "code",
   "execution_count": 1,
   "metadata": {},
   "outputs": [
    {
     "ename": "NameError",
     "evalue": "name 'my_file_name' is not defined",
     "output_type": "error",
     "traceback": [
      "\u001b[0;31m---------------------------------------------------------------------------\u001b[0m",
      "\u001b[0;31mNameError\u001b[0m                                 Traceback (most recent call last)",
      "\u001b[0;32m<ipython-input-1-a8de7b9e4a81>\u001b[0m in \u001b[0;36m<module>\u001b[0;34m\u001b[0m\n\u001b[1;32m      3\u001b[0m \u001b[0;32mimport\u001b[0m \u001b[0mpandas\u001b[0m\u001b[0;34m\u001b[0m\u001b[0;34m\u001b[0m\u001b[0m\n\u001b[1;32m      4\u001b[0m \u001b[0;34m\u001b[0m\u001b[0m\n\u001b[0;32m----> 5\u001b[0;31m \u001b[0mpandas\u001b[0m\u001b[0;34m.\u001b[0m\u001b[0mread_csv\u001b[0m\u001b[0;34m(\u001b[0m\u001b[0mmy_file_name\u001b[0m\u001b[0;34m)\u001b[0m\u001b[0;34m\u001b[0m\u001b[0;34m\u001b[0m\u001b[0m\n\u001b[0m",
      "\u001b[0;31mNameError\u001b[0m: name 'my_file_name' is not defined"
     ]
    }
   ],
   "source": [
    "# Attempt to read a csv (this will produce an error!)\n",
    "\n",
    "import pandas\n",
    "\n",
    "pandas.read_csv(my_file_name)"
   ]
  }
 ],
 "metadata": {
  "kernelspec": {
   "display_name": "Python 3",
   "language": "python",
   "name": "python3"
  },
  "language_info": {
   "codemirror_mode": {
    "name": "ipython",
    "version": 3
   },
   "file_extension": ".py",
   "mimetype": "text/x-python",
   "name": "python",
   "nbconvert_exporter": "python",
   "pygments_lexer": "ipython3",
   "version": "3.7.6"
  }
 },
 "nbformat": 4,
 "nbformat_minor": 4
}
