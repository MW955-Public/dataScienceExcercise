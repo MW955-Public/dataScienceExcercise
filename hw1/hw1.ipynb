{
 "cells": [
  {
   "cell_type": "markdown",
   "metadata": {
    "narrative": true
   },
   "source": [
    "# INFO 2950 Homework 1"
   ]
  },
  {
   "cell_type": "markdown",
   "metadata": {
    "narrative": true
   },
   "source": [
    "This week, our goal is to (re-)familiarize ourselves with the basics of Python, and start getting to know the `pandas` package, which helps us work with data frames. We will also discuss cleaning data. "
   ]
  },
  {
   "cell_type": "markdown",
   "metadata": {
    "narrative": true
   },
   "source": [
    "## Part 1: Discussion question\n",
    "\n",
    "As a data scientist, you'll be asked to build various tools and systems all the time. While you might be *capable* of performing these tasks, it's always worth asking yourself: should you?\n",
    "\n",
    "Below is a list of scenarios. In each case, answer the discussion question: **If you were to build this system, how might its use affect people (be it positively or negatively)?**\n",
    "\n",
    "### Scenarios\n",
    "1. You work for an e-commerce site that wants to direct customers to items they would be interested in, to avoid serving customers irrelevant ads. You've been asked to build a advertisement system that recommends products to customers based on a variety of attributes, including their self-reported gender.\n",
    "1. You work for a news site that lives or dies from ad revenue. Advertisers don't want their ads next to \"controversial\" news items. You've been asked to build a classifier for \"touchy subjects\".\n",
    "1. You work for a public health agency that wants to identify people exposed to a disease for testing. You've been asked to build a system that will trace phone locations and estimate proximity between individuals to infer exposure.\n",
    "1. You work for a university that wants to identify students having difficulties with stress and mental health. You've been asked to build a system that will identify students who aren't going to class.\n",
    "\n",
    "*(Note: all of these scenarios are based on true stories!)*"
   ]
  },
  {
   "cell_type": "markdown",
   "metadata": {
    "problem": 1
   },
   "source": [
    "---\n",
    "\n",
    "## Problem 1 (6 pts)\n",
    "*Remember not to move or modify problem header cells, like this one; we use it for automated homework analysis.* \n",
    "\n",
    "Choose **two** of the above scenarios, and in each case, answer the discussion question.\n",
    "\n",
    "---"
   ]
  },
  {
   "cell_type": "markdown",
   "metadata": {},
   "source": [
    "(insert answer for one scenario here)"
   ]
  },
  {
   "cell_type": "markdown",
   "metadata": {},
   "source": [
    "(insert answer for the other scenario here)"
   ]
  },
  {
   "cell_type": "markdown",
   "metadata": {
    "narrative": true
   },
   "source": [
    "---\n",
    "\n",
    "## Part 2: Python basics\n",
    "\n",
    "Twitter is full of controversies, but a recent one over whether or not 2 + 2 = 5 sparked a lot of discussion in the math and stats world. Here's [a great thread](https://twitter.com/kareem_carr/status/1289724475609501697) on this issue.\n",
    "\n",
    "A key point from this thread: \n",
    "\n",
    "_\"Our numbers, our quantitative measures, are abstractions of real underlying things in the universe and it's important to keep track of this when we use numbers to model the real world.\"_\n",
    "\n",
    "So what does this Twitter controversy have to do with Python...? Let's try to compute 2 + 2 in a few ways and see what happens.\n"
   ]
  },
  {
   "cell_type": "code",
   "execution_count": null,
   "metadata": {
    "narrative": true
   },
   "outputs": [],
   "source": [
    "## example 1\n",
    "x = 2\n",
    "print(\"2 + 2 =\", x + x)\n",
    "\n",
    "## example 2\n",
    "y = 2.0\n",
    "print(\"2 + 2 =\", y + y)\n",
    "\n",
    "## example 3\n",
    "z = \"2\"\n",
    "print(\"2 + 2 =\", z + z)"
   ]
  },
  {
   "cell_type": "markdown",
   "metadata": {
    "narrative": true
   },
   "source": [
    "2 + 2 = ... 22? What's going on here?"
   ]
  },
  {
   "cell_type": "markdown",
   "metadata": {
    "problem": 2
   },
   "source": [
    "---\n",
    "\n",
    "## Problem 2 (4 pts)\n",
    "\n",
    "What is the difference between each of the three examples of arithmetic above? In particular, explain why example 3 produced \"2 + 2 = 22\". \n",
    "\n",
    "---"
   ]
  },
  {
   "cell_type": "markdown",
   "metadata": {},
   "source": [
    "(insert answer here)"
   ]
  },
  {
   "cell_type": "markdown",
   "metadata": {
    "problem": 3
   },
   "source": [
    "---\n",
    "\n",
    "We can perform any number of simple arithmetic operations with Python, but its power lies in our ability automate simple tasks with a few lines of code. In doing so, for loops are often our friends. \n",
    "\n",
    "---\n",
    "\n",
    "## Problem 3 (6 pts)\n",
    "\n",
    "Start with the list of integers from 0 to 10 (inclusive). Write a for loop that iterates through this list to create a new list, where two has been added to each integer in the original list. Print the final list.\n",
    "\n",
    "*(**Hint:** use the [`range`](https://python-reference.readthedocs.io/en/latest/docs/functions/range.html?highlight=range) function to iterate over in your for loop.)*\n",
    "\n",
    "*(**Confidence check:** your code should print `[2, 3, 4, 5, 6, 7, 8, 9, 10, 11, 12]`.)* \n",
    "\n",
    "---"
   ]
  },
  {
   "cell_type": "code",
   "execution_count": null,
   "metadata": {},
   "outputs": [],
   "source": [
    "## insert answer here"
   ]
  },
  {
   "cell_type": "markdown",
   "metadata": {
    "narrative": true
   },
   "source": [
    "---\n",
    "\n",
    "For loops are very literal, which makes them straightforward to understand and write. However, they can get a little verbose and they are not always the most computationally efficient.\n",
    "\n",
    "List comprehensions are a sleek alternative that you will (hopefully) come to love in this course. Their syntax is designed to be simple. It looks like this:\n",
    "\n",
    "`[`expression `for` item `in` list`]`\n",
    "\n",
    "For instance, the for loop you wrote in problem 3 can be written succinctly with a list comprehension:"
   ]
  },
  {
   "cell_type": "code",
   "execution_count": 1,
   "metadata": {
    "narrative": true
   },
   "outputs": [
    {
     "name": "stdout",
     "output_type": "stream",
     "text": [
      "[2, 3, 4, 5, 6, 7, 8, 9, 10, 11, 12]\n"
     ]
    }
   ],
   "source": [
    "new_list_of_ints = [i+2 for i in range(11)]\n",
    "print(new_list_of_ints)"
   ]
  },
  {
   "cell_type": "markdown",
   "metadata": {
    "narrative": true
   },
   "source": [
    "You can also include `if` conditions on the original list in the list comprehension..."
   ]
  },
  {
   "cell_type": "markdown",
   "metadata": {
    "problem": 4
   },
   "source": [
    "---\n",
    "\n",
    "## Problem 4 (4 pts)\n",
    "\n",
    "Copy the above list comprehension and add an if statement (within the list comprehension) after `range(11)` so that the list it creates includes only even integers. The `i+2 for i in range(11)` part of the list comprehension should remain completely unmodified in your solution.   \n",
    "\n",
    "*(**Hint:** You may want to make use the [modulus](https://python-reference.readthedocs.io/en/latest/docs/operators/modulus.html) operator)*\n",
    "\n",
    "*(**Confidence check:** your code should print `[2, 4, 6, 8, 10, 12]`.)* \n",
    "\n",
    "---"
   ]
  },
  {
   "cell_type": "code",
   "execution_count": null,
   "metadata": {},
   "outputs": [],
   "source": [
    "## insert answer here"
   ]
  },
  {
   "cell_type": "markdown",
   "metadata": {
    "narrative": true
   },
   "source": [
    "---\n",
    "\n",
    "## Part 4: `pandas` and data cleaning\n",
    "\n",
    "The [`pandas`](https://pandas.pydata.org/) package is used to perform data analysis. It is essentially a package for working with data frames (i.e. tables of data).\n",
    "\n",
    "Be sure to execute the following cell before proceeding:"
   ]
  },
  {
   "cell_type": "code",
   "execution_count": null,
   "metadata": {
    "narrative": true
   },
   "outputs": [],
   "source": [
    "import pandas as pd"
   ]
  },
  {
   "cell_type": "markdown",
   "metadata": {
    "narrative": true
   },
   "source": [
    "We could simply write `import pandas`, but then every time we want to refer to a function in the `pandas` package (e.g. one called `my_function`), we would have to always write `pandas.my_function` to refer to it, and this gets cumbersome. A common way to abbreviate \"pandas\" is \"pd\", which is why we imported it the way we did above. This way, we can refer to functions in the `pandas` package like `pd.my_function` instead.\n",
    "\n",
    "Real world data is often messy and needs a bit of pre-processing or \"cleaning\" before it can by used (easily) for analysis. There is no well-defined list of steps to go through when cleaning data, because it depends on what your raw data looks like to begin with.\n",
    "\n",
    "The data we'll work with now is a set of makeup reviews from the Sephora online store. The original data can be found [here](https://github.com/everestpipkin/datagardens/tree/master/students/khanniie/5_newDataSet), though I've manually altered the data to help illustrate some data cleaning principles.\n",
    "\n",
    "### Data cleaning plan\n",
    "\n",
    "Before we roll up our sleeves and get to cleaning the data, we need to devise a plan:\n",
    "\n",
    "**Step 1:** *Figure out the start point* - what does your (raw) data look like now?\n",
    "\n",
    "**Step 2:** *Set analysis goals* - what kind of analyses might I want to run based on the available data?\n",
    "\n",
    "**Step 3:** *Define the end point* - what form do I want my data in for analysis?\n",
    "\n",
    "**Step 4:** *Make a task list* - what do you need to do to get your data from the start to the end point?\n",
    "\n",
    "Repeat these steps as you come up with more analysis ideas! It won't necessarily happen linearly.\n",
    "\n",
    "Whenever I'm cleaning data, I like to have the `pandas` [cheat sheet](https://pandas.pydata.org/Pandas_Cheat_Sheet.pdf) open, because I need to reference it embarassingly often :)"
   ]
  },
  {
   "cell_type": "markdown",
   "metadata": {
    "problem": 5
   },
   "source": [
    "---\n",
    "\n",
    "## Problem 5 (4 pts)\n",
    "\n",
    "Perform step 1 in the data cleaning plan by loading the data file (`all_reviews.csv`) using `panda`'s `read_csv` function. Save the data to a variable called `raw_reviews` and display the first few rows of the of the data using the [`.head()`](https://pandas.pydata.org/pandas-docs/stable/reference/api/pandas.DataFrame.head.html) data frame method.\n",
    "\n",
    "(*Remember:* The syntax for object-specific methods looks like `variable_name.method_name()`.)\n",
    "\n",
    "---"
   ]
  },
  {
   "cell_type": "code",
   "execution_count": null,
   "metadata": {},
   "outputs": [],
   "source": [
    "## insert answer here"
   ]
  },
  {
   "cell_type": "markdown",
   "metadata": {
    "narrative": true
   },
   "source": [
    "---\n",
    "\n",
    "(This data is actually a lot cleaner than you might see in practice because I wanted to start slow!)\n",
    "\n",
    "**Step 2:** Based on the data that's available, here are my concrete analysis goals (to start!) for this data set:\n",
    "\n",
    "1. compare ratings for products of the same type\n",
    "1. look at the trend in ratings over time for a specific product\n",
    "\n",
    "**Step 3:** So what do I need my clean data to look like for the above analysis? Let's sketch the header for our dream table:\n",
    "\n",
    "|product_type|brand|product_name|review_stars|review_date|\n",
    "|------------|-----|------------|------------|-----------|\n",
    "|str|str|str|int|date|\n",
    "\n",
    "You'll notice I've written my desired column names as lowercase with underscores instead of spaces. Lowercase is easier to type when programming, and spaces in column names prevent us from using some syntax to quickly refer to columns. \n",
    "\n",
    "**Step 4:** Now how do we get from the raw data to clean data? It helps to split the tasks into two parts: cleaning column names and cleaning entries.\n",
    "\n",
    "Let's first clean up the column names and then take a look at the entries to see what needs to be done there. \n",
    "\n",
    "### Task List 1: Column  names\n",
    "1. convert column names to lowercase and replace spaces with underscores\n",
    "1. drop unnecessary columns"
   ]
  },
  {
   "cell_type": "markdown",
   "metadata": {
    "problem": 6
   },
   "source": [
    "---\n",
    "\n",
    "## Problem 6 (4 pts)\n",
    "\n",
    "Use a list comprehension to create a list called `new_colnames` that takes the old column names (stored in `raw_reviews.columns`) and converts them to lowercase. Print `new_colnames`.\n",
    "\n",
    "*(**Hint:** You may find the string method [`.lower()`](https://www.w3schools.com/python/ref_string_lower.asp) helpful here)*\n",
    "\n",
    "---"
   ]
  },
  {
   "cell_type": "code",
   "execution_count": null,
   "metadata": {},
   "outputs": [],
   "source": [
    "## insert answer here"
   ]
  },
  {
   "cell_type": "markdown",
   "metadata": {
    "problem": 7
   },
   "source": [
    "---\n",
    "\n",
    "## Problem 7 (8 pts)\n",
    "\n",
    "Use another list comprehension update the `new_colnames` list, replacing all spaces in the list entries with underscores. Print the updated `new_colnames` list.\n",
    "\n",
    "Copy `raw_reviews` to a new variable called `reviews` using the [`.copy()`](https://pandas.pydata.org/pandas-docs/stable/reference/api/pandas.DataFrame.copy.html) data frame method. Update the column names for the `reviews` data frame using your cleaned column names stored in `new_colnames`. Show the first few rows of `reviews`.\n",
    "\n",
    "*(**Hint:** you may find the string method [`.replace()`](https://www.w3schools.com/python/ref_string_replace.asp) helpful here)*\n",
    "\n",
    "---"
   ]
  },
  {
   "cell_type": "code",
   "execution_count": null,
   "metadata": {},
   "outputs": [],
   "source": [
    "## insert answer here"
   ]
  },
  {
   "cell_type": "markdown",
   "metadata": {
    "problem": 8
   },
   "source": [
    "---\n",
    "\n",
    "## Problem 8 (4 pts)\n",
    "\n",
    "Update the `reviews` data frame, keeping only the following columns:\n",
    "\n",
    "```\n",
    "product_type, brand, product_name, review_stars, review_date\n",
    "```\n",
    "\n",
    "Show the first few rows of the updated `reviews` data frame.\n",
    "\n",
    "---"
   ]
  },
  {
   "cell_type": "code",
   "execution_count": null,
   "metadata": {},
   "outputs": [],
   "source": [
    "## insert answer here"
   ]
  },
  {
   "cell_type": "markdown",
   "metadata": {
    "narrative": true
   },
   "source": [
    "---\n",
    "\n",
    "Now that our column names are in order, let's look at what kind of cleaning our entries need."
   ]
  },
  {
   "cell_type": "markdown",
   "metadata": {
    "problem": 9
   },
   "source": [
    "---\n",
    "## Problem 9 (6 pts)\n",
    "\n",
    "Write a for loop that will, for each column in `reviews`,\n",
    "1. print the column name\n",
    "1. print the count of observations per entry type\n",
    "1. print an empty line break (`\"\\n\"`) to make the results produced by the for loop more readible.\n",
    "\n",
    "*(**Hint:** For step 2 in the for loop, you may find the `pandas` column method [`.value_counts()`](https://pandas.pydata.org/pandas-docs/stable/reference/api/pandas.Series.value_counts.html?highlight=value_counts#pandas.Series.value_counts) helpful.)*\n",
    "\n",
    "---"
   ]
  },
  {
   "cell_type": "code",
   "execution_count": null,
   "metadata": {},
   "outputs": [],
   "source": [
    "## insert answer here"
   ]
  },
  {
   "cell_type": "markdown",
   "metadata": {
    "problem": 10
   },
   "source": [
    "---\n",
    "\n",
    "## Problem 10 (4 pts)\n",
    "\n",
    "Look at the results from the previous exercise for the `product_type` column. What do you notice about some of the entries that might be a problem for data analysis? What problem would this pose? \n",
    "\n",
    "---"
   ]
  },
  {
   "cell_type": "markdown",
   "metadata": {},
   "source": [
    "(insert answer here)"
   ]
  },
  {
   "cell_type": "markdown",
   "metadata": {
    "narrative": true
   },
   "source": [
    "---\n",
    "\n",
    "Inspecting the entries, we should notice a few things that may be a problem for our analysis plan:\n",
    "* some entries in the `product_type` column are inconsistent (e.g. `Mascara` and `MASCARA`)\n",
    "* there appear to be some observations with missing values in the `review_stars` column (some observations have `???` in this column)\n",
    "* the dates don't really look like dates and may not be parsed correctly\n",
    "    \n",
    "Using these observations, we can write our second task list for cleaning the table entries.\n",
    "\n",
    "### Task List 2: Entries\n",
    "1. convert entries in the `product_type` column to lowercase, to get rid of duplicate categories arrising from case differences\n",
    "1. remove observations with missing values in the `review_stars` column\n",
    "1. convert the `review_dates` column to an actual `pandas` date object"
   ]
  },
  {
   "cell_type": "markdown",
   "metadata": {
    "problem": 11
   },
   "source": [
    "---\n",
    "\n",
    "## Problem 11 (4 pts)\n",
    "\n",
    "Update `reviews` by converting the `product_type` column to lowercase. Display the first few columns of the updated `reviews`.\n",
    "\n",
    "When updating a subset of a `pandas` dataframe, be sure to use the [`.loc[]`](https://pandas.pydata.org/pandas-docs/stable/reference/api/pandas.DataFrame.loc.html?highlight=loc#pandas.DataFrame.loc) data frame method on the left-hand side of the assignment statement. You should **not** get a warning labelled `SettingWithCopyWarning` if you've done this correctly.\n",
    "\n",
    "---"
   ]
  },
  {
   "cell_type": "code",
   "execution_count": null,
   "metadata": {},
   "outputs": [],
   "source": [
    "## insert answer here"
   ]
  },
  {
   "cell_type": "markdown",
   "metadata": {
    "problem": 12
   },
   "source": [
    "---\n",
    "\n",
    "## Problem 12 (6 pts)\n",
    "\n",
    "Update `reviews` by removing any rows where the `review_stars` entry is `???`. Display the first few columns of the updated `reviews`.\n",
    "\n",
    "When updating an entire `pandas` dataframe, be sure to use the [`.copy()`](https://pandas.pydata.org/pandas-docs/stable/reference/api/pandas.DataFrame.copy.html?highlight=copy#pandas.DataFrame.copy) data frame method on the right-hand side of the assignment statement.\n",
    "\n",
    "*(**Hint:** the `pandas` [cheat sheet](https://pandas.pydata.org/Pandas_Cheat_Sheet.pdf) gives syntax for subsetting observations, which may be helpful here. We want to filter out any rows where the `reviews_stars` entry is `???`.)*\n",
    "\n",
    "*(**Confidence check:** Before filtering out rows with `???` in the `review_stars` column, `reviews` should have 3966 observations. After filtering, `reviews` should have 3964 observations. You can check the number of rows by printing the `.shape` atribute of a dataframe, i.e. using `reviews.shape` here.)*\n",
    "\n",
    "---"
   ]
  },
  {
   "cell_type": "code",
   "execution_count": null,
   "metadata": {},
   "outputs": [],
   "source": [
    "## insert answer here"
   ]
  },
  {
   "cell_type": "markdown",
   "metadata": {
    "narrative": true
   },
   "source": [
    "---\n",
    "\n",
    "Note that often missing values will appear as null values (as opposed to something like `???`). Null values depend on the underlying data type: `NaN` in numeric arrays, `None` or `NaN` in object arrays, `NaT` in datetime arrays. The functions [`isnull()`](https://pandas.pydata.org/pandas-docs/stable/reference/api/pandas.isnull.html) and [`notnull()`](https://pandas.pydata.org/pandas-docs/stable/reference/api/pandas.DataFrame.notnull.html?highlight=notnull#pandas.DataFrame.notnull) are helpful for filtering in these cases.  You should **not** use logical operators like `==` or `!=` to check for null values, as such expressions often have [unintended consequences](https://towardsdatascience.com/navigating-the-hell-of-nans-in-python-71b12558895b).\n",
    "\n",
    "That said, it is worth asking yourself why you're removing rows with missing values and if it might affect some downstream analysis. For example, if we were interested in the *number* of reviews per product, removing products with missing ratings would artificially reduce these sample sizes.\n",
    "\n",
    "Now, we just have to tackle the dates and we will have accomplished all of our data cleaning tasks!\n",
    "\n",
    "Let's take a closer look at the dates, as they currently appear in `reviews`. Execute the following cell:"
   ]
  },
  {
   "cell_type": "code",
   "execution_count": null,
   "metadata": {
    "narrative": true
   },
   "outputs": [],
   "source": [
    "type(reviews.review_date[0])"
   ]
  },
  {
   "cell_type": "markdown",
   "metadata": {
    "narrative": true
   },
   "source": [
    "The review dates are currently stored as strings in `reviews`. Python does not inately know a special date string from any other string (functionally, it thinks of \"2020-09-07\" and \"hello\" as the same type of data). Information about how dates should be read, ordered, and how to perform calculations with dates is not encoded when a date is stored as a string.\n",
    "\n",
    "Instead, we must represent dates as specific \"date\" types in Python. To do this, we have to tell Python how to parse the date string to create a special date object. "
   ]
  },
  {
   "cell_type": "markdown",
   "metadata": {
    "problem": 13
   },
   "source": [
    "---\n",
    "\n",
    "## Problem 13 (6 pts)\n",
    "\n",
    "Update `reviews` by overwriting the exisiting string entries in the `review_dates` column with correctly parsed date entries. Use the `pandas` [`to_datetime()`](https://pandas.pydata.org/pandas-docs/stable/reference/api/pandas.to_datetime.html) function to convert the dates in the existing `review_date` column to ones that are correctly parsed using the `format` argument.\n",
    "\n",
    "Display the first few columns of the updated `reviews`. Print the data type of the first entry of the updated `review_date` column.\n",
    "\n",
    "*(**Hint:** The original dates in the `review_date` column are of the form `dd mm yyyy`. In writing the `format` string that parses this formatting, you may find it helpful to consult [this chart](https://docs.python.org/3/library/datetime.html#strftime-and-strptime-format-codes) of date and time codes recognized by `format`. For example, `format = \"%b %d, %y\"` would capture dates like `Jul 15, 91`.)*\n",
    "\n",
    "---"
   ]
  },
  {
   "cell_type": "code",
   "execution_count": null,
   "metadata": {},
   "outputs": [],
   "source": [
    "## insert answer here"
   ]
  },
  {
   "cell_type": "markdown",
   "metadata": {
    "narrative": true
   },
   "source": [
    "---\n",
    "\n",
    "That's it! We've accomplished our data cleaning task list. Of course, as you begin to work with your data, you may notice other idiosyncrasies that require further cleaning.\n",
    "\n",
    "For instance, the entries in the `review_stars` column are still strings, but in order to perform certain kinds of analyses (e.g. get the mean star rating per item), we really want this data to be stored as a numeric type... How might one use Python to extract the numeric value of the rating? More on this later, when we start learning about [regular expressions](https://www.programiz.com/python-programming/regex)... "
   ]
  }
 ],
 "metadata": {
  "kernelspec": {
   "display_name": "Python 3",
   "language": "python",
   "name": "python3"
  },
  "language_info": {
   "codemirror_mode": {
    "name": "ipython",
    "version": 3
   },
   "file_extension": ".py",
   "mimetype": "text/x-python",
   "name": "python",
   "nbconvert_exporter": "python",
   "pygments_lexer": "ipython3",
   "version": "3.7.6"
  }
 },
 "nbformat": 4,
 "nbformat_minor": 4
}
