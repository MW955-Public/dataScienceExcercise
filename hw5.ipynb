{
 "cells": [
  {
   "cell_type": "markdown",
   "metadata": {
    "narrative": true
   },
   "source": [
    "## Discussion Question\n",
    "Personal data is increasingly stored in encrypted formats managed by large tech companies. In cases where a crime has occured, this data may be important to investigations by law enforcement. Apple has famously [refused to crack their encryption or build backdoors](https://www.theverge.com/2020/1/7/21054836/fbi-iphone-unlock-apple-encryption-debate-pensacola-ios-security) into their software to help law enforcement gain access to potential evidence, while [Google has charged law enforcement](https://www.nytimes.com/2020/01/24/technology/google-search-warrants-legal-fees.html) a fee to execute search warrants for user data. **What roles and responsibilities do these private tech companies have to both users and law enforcement when it comes to either sharing or safeguarding user data when a crime has occurred?**"
   ]
  },
  {
   "cell_type": "markdown",
   "metadata": {
    "narrative": true
   },
   "source": [
    "# HW 5\n",
    "\n",
    "**To make it easier for TAs to grade your work, make sure that all cells are executed so that we can see your results without having to run anything**\n",
    "\n",
    "Resources: Jake VanderPlas, [Python Data Science Handbook](https://jakevdp.github.io/PythonDataScienceHandbook/index.html)\n",
    "\n",
    "Goals:\n",
    "\n",
    "* Practice calculating correlation, $r^2$; visually interpret the meaning of these numbers.\n",
    "\n",
    "* Run linear regressions with `sklearn`, understand the intutition behind linear models.\n",
    "\n",
    "* Practice pattern matching with regular expressions.\n"
   ]
  },
  {
   "cell_type": "code",
   "execution_count": 1,
   "metadata": {
    "narrative": true
   },
   "outputs": [],
   "source": [
    "import numpy\n",
    "import pandas as pd\n",
    "from matplotlib import pyplot\n",
    "from sklearn.linear_model import LinearRegression"
   ]
  },
  {
   "cell_type": "markdown",
   "metadata": {
    "narrative": true
   },
   "source": [
    "## Covariance, correlation, and $r^2$\n",
    "\n",
    "In this problem you will calculate statistics of the following array. The first column will be $X$, the second column will be $Y$."
   ]
  },
  {
   "cell_type": "code",
   "execution_count": null,
   "metadata": {
    "narrative": true
   },
   "outputs": [],
   "source": [
    "q1_array = numpy.array([[ 4.35994902, 10.84003387],\n",
    "                       [ 0.25926232,  6.64625283],\n",
    "                       [ 5.49662478, 12.70709295],\n",
    "                       [ 4.35322393, 10.33309438],\n",
    "                       [ 4.20367802, 10.21407197],\n",
    "                       [ 3.30334821,  8.47051026],\n",
    "                       [ 2.04648634,  7.93047576],\n",
    "                       [ 6.19270966, 11.491082  ],\n",
    "                       [ 2.99654674,  7.60715331],\n",
    "                       [ 2.66827275,  9.15886831],\n",
    "                       [ 6.21133833, 11.99190195],\n",
    "                       [ 5.29142094, 10.98304651],\n",
    "                       [ 1.34579945,  6.89008468],\n",
    "                       [ 5.13578121,  9.01125354],\n",
    "                       [ 1.84439866,  8.3941969 ]])"
   ]
  },
  {
   "cell_type": "markdown",
   "metadata": {
    "problem": 1
   },
   "source": [
    "### A. Visual Display\n",
    "\n",
    "**Problem 1 (1 point):** Display a scatter plot of your data with one point per $X,Y$ pair. Both the axes should start at zero and show all points. Set the figure size to `(5,5)` (Google this to find the correct syntax if you need to). Don't worry about labeling axes."
   ]
  },
  {
   "cell_type": "code",
   "execution_count": null,
   "metadata": {},
   "outputs": [],
   "source": [
    "## insert solution here"
   ]
  },
  {
   "cell_type": "markdown",
   "metadata": {
    "problem": 2
   },
   "source": [
    "**Problem 2 (1 point):** Repeat the same figure, but swap the axes (show $X$ on the vertical axis, $Y$ on the horizontal axis). Both the axes should start at zero and show all points. Set the figure size to `(5,5)`."
   ]
  },
  {
   "cell_type": "code",
   "execution_count": null,
   "metadata": {},
   "outputs": [],
   "source": [
    "## insert solution here"
   ]
  },
  {
   "cell_type": "markdown",
   "metadata": {
    "problem": 3
   },
   "source": [
    "**Problem 3 (1 point):** Based on the first plot, are $X$ and $Y$ positively correlated, negatively correlated, or independent?  Support your answer *qualitatively* (describe the intuition in words, not numbers)."
   ]
  },
  {
   "cell_type": "code",
   "execution_count": null,
   "metadata": {},
   "outputs": [],
   "source": [
    "## insert solution here"
   ]
  },
  {
   "cell_type": "markdown",
   "metadata": {
    "narrative": true
   },
   "source": [
    "### B. Quantitative statistics\n",
    "\n",
    "In the following exercises, you will write code to calculate:\n",
    "* the variance of $X$ and the variance of $Y$\n",
    "* the covariance of $X$ and $Y$\n",
    "* the correlation between $X$ and $Y$ \n",
    "* the slope, intercept, and standard deviation of residuals for $Y$ given $X$\n",
    "* the slope, intercept, and standard deviation of residuals for $X$ given $Y$\n",
    "\n",
    "You may use `numpy` functions such as `var`, `cov`, and `corrcoef` only to *confidence check* your answers, **you must write your own code to implement these functions.** Remember that there are two ways to calculate variance, dividing by $N$ and dividing by $N-1$. You may use either, but be consistent. Use print statements with descriptive text so we can clearly see your answers. \n",
    "\n",
    "To make your code clearer, feel free to create variables for values that you use repeatedly. You can use them across cells. **Watch out for copy-paste errors!** Show that your code outputs a similar result as either numpy or pandas `.var()` *(Hint: numpy and pandas have slightly different implementations of variance; one uses n-1, the other weights by n)*"
   ]
  },
  {
   "cell_type": "markdown",
   "metadata": {
    "problem": 4
   },
   "source": [
    "**Problem 4 (2 points):** Calculate the variance of $X$ and the variance of $Y$."
   ]
  },
  {
   "cell_type": "code",
   "execution_count": null,
   "metadata": {},
   "outputs": [],
   "source": [
    "## insert solution here"
   ]
  },
  {
   "cell_type": "markdown",
   "metadata": {
    "problem": 5
   },
   "source": [
    "**Problem 5 (2 points)**: Calculate the covariance of $X$ and $Y$."
   ]
  },
  {
   "cell_type": "code",
   "execution_count": null,
   "metadata": {},
   "outputs": [],
   "source": [
    "## insert solution here"
   ]
  },
  {
   "cell_type": "markdown",
   "metadata": {
    "problem": 6
   },
   "source": [
    "**Problem 6 (2 points):** Calculate the correlation between $X$ and $Y$."
   ]
  },
  {
   "cell_type": "code",
   "execution_count": null,
   "metadata": {},
   "outputs": [],
   "source": [
    "## insert solution here"
   ]
  },
  {
   "cell_type": "markdown",
   "metadata": {
    "problem": 7
   },
   "source": [
    "**Problem 7 (3 points):** Calculate the slope, intercept, and standard deviation of residuals for $Y$ given $X$"
   ]
  },
  {
   "cell_type": "code",
   "execution_count": null,
   "metadata": {},
   "outputs": [],
   "source": [
    "## insert solution here"
   ]
  },
  {
   "cell_type": "markdown",
   "metadata": {
    "problem": 8
   },
   "source": [
    "**Problem 8 (3 points):** Calculate the slope, intercept, and standard deviation of residuals for $X$ given $Y$"
   ]
  },
  {
   "cell_type": "code",
   "execution_count": null,
   "metadata": {},
   "outputs": [],
   "source": [
    "## insert solution here"
   ]
  },
  {
   "cell_type": "markdown",
   "metadata": {
    "problem": 9
   },
   "source": [
    "### C. Quantitative statistics for almost the same \n",
    "\n",
    "**Problem 9 (5 points):** Calculate and print the same values, but use $2Y$ (multiply $Y$ by 2)\n",
    "\n",
    "* the variance of $X$ and the variance of $2Y$\n",
    "* the covariance of $X$ and $2Y$\n",
    "* the correlation between $X$ and $2Y$ \n",
    "* the slope, intercept, and standard deviation of residuals for $2Y$ given $X$\n",
    "* the slope, intercept, and standard deviation of residuals for $X$ given $2Y$\n",
    "\n",
    "Remember to double check your answers using the standard package functions!"
   ]
  },
  {
   "cell_type": "code",
   "execution_count": null,
   "metadata": {},
   "outputs": [],
   "source": [
    "## insert solution here"
   ]
  },
  {
   "cell_type": "markdown",
   "metadata": {
    "problem": 10
   },
   "source": [
    "**Problem 10 (6 points):** For each of the quantities, state whether it is different from or the same as when you used $X$ and $Y$. For each, explain why or why not."
   ]
  },
  {
   "cell_type": "code",
   "execution_count": null,
   "metadata": {},
   "outputs": [],
   "source": [
    "## insert solution here"
   ]
  },
  {
   "cell_type": "markdown",
   "metadata": {
    "problem": 11
   },
   "source": [
    "### D. Again, but in `pandas`\n",
    "\n",
    "**Problem 11 (6 points):** Create a `pandas` data frame named `q1_dataframe` with two columns, `x` and `y`, with values equal to the columns of `q1_array`.\n",
    "\n",
    "Use `sklearn` to calculate a linear regression for `y` given `x`. Save the `LinearRegression` object as `q1_model`. Print the values of the regression (slope and intercept).\n",
    "\n",
    "Create an array `predictions` using the `predict` function of `q1_model`. Calculate the sum of the squared differences between $Y$ and `predictions` as `ssr` (sum of squared residuals.  Calculate the sum of the squared differences between $Y$ and the mean of $Y$ as `sst` (sum of squares, total). Print `ssr` and `sst`.\n",
    "\n",
    "Calculate $1 - \\frac{SSR}{SST}$ and print it.\n",
    "\n",
    "Use the `score` function of `q1_model` to calculate and print the $r^2$ score. (Confidence check: this should equal the previous value.)"
   ]
  },
  {
   "cell_type": "code",
   "execution_count": null,
   "metadata": {},
   "outputs": [],
   "source": [
    "## insert solution here"
   ]
  },
  {
   "cell_type": "markdown",
   "metadata": {
    "problem": 12
   },
   "source": [
    "### E. Commentary\n",
    "\n",
    "**Problem 12 (2 points):** Based on your *quantitative* analysis of this data set, argue whether or not there is evidence of a linear relationship between $X$ and $Y$."
   ]
  },
  {
   "cell_type": "code",
   "execution_count": null,
   "metadata": {},
   "outputs": [],
   "source": [
    "## insert solution here"
   ]
  },
  {
   "cell_type": "markdown",
   "metadata": {
    "narrative": true
   },
   "source": [
    "## More data and correlation\n",
    "\n",
    "In these problems, you will create paired data which exhibits certain statistical properties.\n",
    "\n",
    "Write each array in the `numpy.array(...)` format used for `q1_array` at the very beginning.\n",
    "\n",
    "The coefficient of determination $r^2$, or r-squared value, is a measure of model fit which encodes the extent to which a model can explain variability in a given output variable (phenomenon). It is the square of the correlation coefficient you calculated in the previous problem. It can be often be interpreted as the percent of variability in outcome behavior explained by the model. It is useful but has limitations.\n",
    "\n",
    "Each array should have two columns and at least eight (8) rows."
   ]
  },
  {
   "cell_type": "markdown",
   "metadata": {
    "problem": 13
   },
   "source": [
    "### A. Perfect correlation\n",
    "\n",
    "**Problem 13 (1 points):** Create an array with two columns with coefficient of determination 1.0."
   ]
  },
  {
   "cell_type": "code",
   "execution_count": null,
   "metadata": {},
   "outputs": [],
   "source": [
    "## insert solution here"
   ]
  },
  {
   "cell_type": "markdown",
   "metadata": {
    "problem": 14
   },
   "source": [
    "### B. Perfect correlation is not unique\n",
    "\n",
    "**Problem 14 (2 points):** Create an array with the same $X$ values from your answer to exercise 12 but different $Y$ values, such that the coefficient of determination is also 1.0."
   ]
  },
  {
   "cell_type": "code",
   "execution_count": null,
   "metadata": {},
   "outputs": [],
   "source": [
    "## insert solution here"
   ]
  },
  {
   "cell_type": "markdown",
   "metadata": {
    "problem": 15
   },
   "source": [
    "### C. Imperfect correlation, $r^2 = 0.25$\n",
    "\n",
    "**Problem 15 (3 points):** Create an array with coefficient of determination 0.25 (+/- 0.01) by adding noise. First create $X$. Then create a new array `noise` of the same length using `numpy.random.normal()` with mean zero and standard deviation 1.0."
   ]
  },
  {
   "cell_type": "code",
   "execution_count": null,
   "metadata": {},
   "outputs": [],
   "source": [
    "## insert solution here"
   ]
  },
  {
   "cell_type": "markdown",
   "metadata": {
    "narrative": true
   },
   "source": [
    "Set a variable `scale`, initially equal to 1.0. Let $Y$ equal $X$ plus `scale` times `noise` and calculate $r^2$. If $r^2$ is greater than or less than 0.25, change the value of `scale` and repeat. Print the array with your $X$ and $Y$ values."
   ]
  },
  {
   "cell_type": "code",
   "execution_count": null,
   "metadata": {},
   "outputs": [],
   "source": [
    "## insert solution here"
   ]
  },
  {
   "cell_type": "markdown",
   "metadata": {
    "problem": 16
   },
   "source": [
    "### D. $r^2 = 0$, random\n",
    "\n",
    "**Problem 16 (2 points):** Create an array with two columns and eight rows, with coefficient of determination less than or equal to 0.01, with no visible pattern."
   ]
  },
  {
   "cell_type": "code",
   "execution_count": null,
   "metadata": {},
   "outputs": [],
   "source": [
    "## insert solution here"
   ]
  },
  {
   "cell_type": "markdown",
   "metadata": {
    "problem": 17
   },
   "source": [
    "**Problem 17 (2 points):** Use sklearn's `LinearRegression().fit()` to calculate a \"line of best fit\" for your created data points in **problem 16.** Plot the data points and the line (*Hint:* to plot the linear model, you can plot the predicted y_values against the original x_values. To find the predicted y_values, you can use the sklearn linear regression model's: `.predict()` and passing the original x_values as a parameter.)"
   ]
  },
  {
   "cell_type": "code",
   "execution_count": null,
   "metadata": {},
   "outputs": [],
   "source": [
    "## insert solution here"
   ]
  },
  {
   "cell_type": "markdown",
   "metadata": {
    "problem": 18
   },
   "source": [
    "### E. $r^2 = 0$, not random\n",
    "\n",
    "**Problem 18 (3 points):** Create an array $X$ and then generate an array $Y$ that is a deterministic function of $X$ *and* with coefficient of determination less than or equal to 0.01. In other words, given $X$, you know *exactly* what $Y$ will be, but the $r^2$ value is still close to 0."
   ]
  },
  {
   "cell_type": "code",
   "execution_count": null,
   "metadata": {},
   "outputs": [],
   "source": [
    "## insert solution here"
   ]
  },
  {
   "cell_type": "markdown",
   "metadata": {
    "problem": 19
   },
   "source": [
    "**Problem 19 (2 points):** Again, use sklearn's `LinearRegression().fit()` to calculate a \"line of best fit\" for this created data in **problem 18.** Plot the data points and the line."
   ]
  },
  {
   "cell_type": "code",
   "execution_count": null,
   "metadata": {},
   "outputs": [],
   "source": [
    "## insert solution here"
   ]
  },
  {
   "cell_type": "markdown",
   "metadata": {
    "problem": 20
   },
   "source": [
    "## Pattern Matching with Regular Expressions\n",
    "\n",
    "**Problem 20 (4 points):** The following string `dynamite` are the lyrics from BTS's Dynamite. Use regex pattern matching and `re.sub` to replace each hyphenated word with the word \"banana\" then print out the last twelve lines. You can use [regex101](https://regex101.com/) to help test your regex pattern (*hint: make sure you select the Python flavor*). Also, [here](https://www.debuggex.com/cheatsheet/regex/python) is a helpful list of regular expressions.\n",
    "\n",
    "The last 12 lines (or approximately 545 characters) should look like this:\n",
    "\n",
    " ```So watch me bring the fire and set the night alight \n",
    " Shining through the city with a little funk and soul \n",
    " So Ima light it up like dynamite \n",
    " (This is ah) \n",
    " Cause, banana, Im in the stars tonight \n",
    " So watch me bring the fire and set the night alight \n",
    " Shining through the city with a little funk and soul \n",
    " So Ima light it up like dynamite, whoa \n",
    " banana, banana, banana, banana, life is dynamite \n",
    " banana, banana, banana, banana, life is dynamite \n",
    " Shining through the city with a little funk and soul \n",
    " Ima light it up like dynamite, whoa```\n"
   ]
  },
  {
   "cell_type": "code",
   "execution_count": 1,
   "metadata": {
    "narrative": true
   },
   "outputs": [
    {
     "name": "stdout",
     "output_type": "stream",
     "text": [
      "So watch me bring the fire and set the night alight \n",
      " Shining through the city with a little funk and soul \n",
      " So Ima light it up like dynamite \n",
      " (This is ah) \n",
      " Cause, ah-ah, Im in the stars tonight \n",
      " So watch me bring the fire and set the night alight \n",
      " Shining through the city with a little funk and soul \n",
      " So Ima light it up like dynamite, whoa \n",
      " Dy-na-na-na, na-na, na-na-na, na-na, life is dynamite \n",
      " Dy-na-na-na, na-na, na-na-na, na-na, life is dynamite \n",
      " Shining through the city with a little funk and soul \n",
      " Ima light it up like dynamite, whoa\n"
     ]
    }
   ],
   "source": [
    "import re\n",
    "dynamite =\"Cause, ah-ah, Im in the stars tonight \\n So watch me bring the fire and set the night alight \\n Shoes on, get up in the morn \\n Cup of milk, lets rock and roll \\n King Kong, kick the drum, rolling on like a rolling stone \\n Sing song when Im walking home \\n Jump up to the top, LeBron \\n Ding dong, call me on my phone \\n Ice tea and a game of ping pong \\n This is getting heavy \\n Can you hear the bass boom? Im ready \\n Life is sweet as honey \\n Yeah, this beat cha ching like money \\n Disco overload, Im into that, Im good to go \\n Im diamond, you know I glow up \\n Hey, so lets go \\n Cause, ah-ah, Im in the stars tonight \\n So watch me bring the fire and set the night alight \\n Shining through the city with a little funk and soul \\n So Ima light it up like dynamite, whoa \\n Bring a friend, join the crowd \\n Whoever wanna come along \\n Word up, talk the talk, just move like we off the wall \\n Day or night the skys alight \\n So we dance to the break of dawn \\n Ladies and gentlemen, I got the medicine, so you should keep ya eyes on the ball, huh \\n This is getting heavy \\n Can you hear the bass boom? Im ready \\n Life is sweet as honey \\n Yeah, this beat cha ching like money \\n Disco overload, Im into that, Im good to go \\n Im diamond, you know I glow up \\n Lets go \\n Cause, ah-ah, Im in the stars tonight \\n So watch me bring the fire and set the night alight \\n Shining through the city with a little funk and soul \\n So Ima light it up like dynamite, whoa \\n Dy-na-na-na, na-na, na-na-na, na-na, life is dynamite \\n Dy-na-na-na, na-na, na-na-na, na-na, life is dynamite \\n Shining through the city with a little funk and soul \\n So Ima light it up like dynamite, whoa \\n Dy-na-na-na, na-na, na-na, eh \\n Dy-na-na-na, na-na, na-na, eh \\n Dy-na-na-na, na-na, na-na, eh \\n Light it up, dynamite \\n Dy-na-na-na, na-na, na-na, eh \\n Dy-na-na-na, na-na, na-na, eh \\n Dy-na-na-na, na-na, na-na, eh \\n Light it up, dynamite \\n Cause, ah-ah, Im in the stars tonight \\n So watch me bring the fire and set the night alight \\n Shining through the city with a little funk and soul \\n So Ima light it up like dynamite \\n (This is ah) \\n Cause, ah-ah, Im in the stars tonight \\n So watch me bring the fire and set the night alight \\n Shining through the city with a little funk and soul \\n So Ima light it up like dynamite, whoa \\n Dy-na-na-na, na-na, na-na-na, na-na, life is dynamite \\n Dy-na-na-na, na-na, na-na-na, na-na, life is dynamite \\n Shining through the city with a little funk and soul \\n Ima light it up like dynamite, whoa\"\n",
    "print(dynamite[-551:])\n"
   ]
  },
  {
   "cell_type": "code",
   "execution_count": null,
   "metadata": {},
   "outputs": [],
   "source": [
    "## insert solution here"
   ]
  },
  {
   "cell_type": "markdown",
   "metadata": {
    "problem": 21
   },
   "source": [
    "**Problem 21 (3 points):** In the string `dynamite` use regex pattern matching and `re.findall()` to find every four letter word that starts with a capital letter (examples: \"King,\" \"Kong,\" and \"Ding\"). Print the list of words. (*Hint: [word boundaries](https://docs.python.org/3/library/re.html#regular-expression-syntax) could be useful here*)"
   ]
  },
  {
   "cell_type": "code",
   "execution_count": null,
   "metadata": {},
   "outputs": [],
   "source": [
    "## insert solution here"
   ]
  },
  {
   "cell_type": "markdown",
   "metadata": {
    "problem": 22
   },
   "source": [
    "**Problem 22 (2 points):** In the string `dynamite` use regex pattern matching and `re.findall()` to find each word immediately following the word \"Im\" then print this list of words."
   ]
  },
  {
   "cell_type": "code",
   "execution_count": null,
   "metadata": {},
   "outputs": [],
   "source": [
    "## insert solution here"
   ]
  }
 ],
 "metadata": {
  "kernelspec": {
   "display_name": "Python 3",
   "language": "python",
   "name": "python3"
  },
  "language_info": {
   "codemirror_mode": {
    "name": "ipython",
    "version": 3
   },
   "file_extension": ".py",
   "mimetype": "text/x-python",
   "name": "python",
   "nbconvert_exporter": "python",
   "pygments_lexer": "ipython3",
   "version": "3.7.6"
  }
 },
 "nbformat": 4,
 "nbformat_minor": 4
}
